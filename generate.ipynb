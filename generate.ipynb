{
 "cells": [
  {
   "cell_type": "code",
   "execution_count": null,
   "id": "c9202d08",
   "metadata": {},
   "outputs": [
    {
     "name": "stderr",
     "output_type": "stream",
     "text": [
      "C:\\Users\\herna\\AppData\\Local\\Temp\\ipykernel_234196\\1222478266.py:5: DeprecationWarning: The module snntorch.backprop will be deprecated in  a future release. Writing out your own training loop will lead to substantially faster performance.\n",
      "  from snntorch import backprop\n"
     ]
    }
   ],
   "source": [
    "import snntorch as snn\n",
    "from snntorch import spikeplot as splt\n",
    "from snntorch import spikegen\n",
    "from snntorch import surrogate\n",
    "from snntorch import functional as SF\n",
    "import torch\n",
    "import torch.nn as nn\n",
    "from torch.utils.data import DataLoader\n",
    "from torchvision import datasets, transforms\n",
    "\n",
    "import matplotlib.pyplot as plt\n",
    "import numpy as np\n",
    "import itertools\n",
    "from snntorch import utils\n",
    "import random"
   ]
  },
  {
   "cell_type": "code",
   "execution_count": 4,
   "id": "957b5768",
   "metadata": {},
   "outputs": [],
   "source": [
    "#network parameters\n",
    "nin = 2\n",
    "nout = 1\n",
    "rand_range_start = 1\n",
    "rand_range_end = 10\n",
    "beta = 0.95\n",
    "spike_grad = surrogate.fast_sigmoid(slope=25)"
   ]
  },
  {
   "cell_type": "code",
   "execution_count": 5,
   "id": "40aa7036",
   "metadata": {},
   "outputs": [],
   "source": [
    "class EONS:\n",
    "    def __init__(self,params):\n",
    "        self.params = params\n",
    "        self.template_network = None\n",
    "        pass\n",
    "    def make_template_network(self,nin:int,nout:int):\n",
    "        hidden = random.randint(rand_range_start,rand_range_end)\n",
    "        net = nn.Sequential(nn.Linear(nin,hidden),\n",
    "                            snn.Leaky(beta=beta,spike_grad=spike_grad),\n",
    "                            nn.Linear(hidden,nout),\n",
    "                            nn.Leaky(beta=beta,spike_grad=spike_grad))\n",
    "        self.template_network = net\n",
    "        return None\n",
    "    \n",
    "    "
   ]
  },
  {
   "cell_type": "code",
   "execution_count": null,
   "id": "ac6b547b",
   "metadata": {},
   "outputs": [],
   "source": []
  }
 ],
 "metadata": {
  "kernelspec": {
   "display_name": "python310",
   "language": "python",
   "name": "python3"
  },
  "language_info": {
   "codemirror_mode": {
    "name": "ipython",
    "version": 3
   },
   "file_extension": ".py",
   "mimetype": "text/x-python",
   "name": "python",
   "nbconvert_exporter": "python",
   "pygments_lexer": "ipython3",
   "version": "3.10.16"
  }
 },
 "nbformat": 4,
 "nbformat_minor": 5
}
